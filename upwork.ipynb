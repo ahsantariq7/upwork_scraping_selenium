{
 "cells": [
  {
   "cell_type": "code",
   "execution_count": 1,
   "id": "6b464c28-5a68-49dc-9dba-635dba13b4b7",
   "metadata": {},
   "outputs": [],
   "source": [
    "from selenium import webdriver\n",
    "from selenium.webdriver.firefox.service import Service as FirefoxService\n",
    "from webdriver_manager.firefox import GeckoDriverManager\n",
    "from selenium.webdriver.common.by import By\n",
    "from selenium.webdriver.support import expected_conditions as EC\n",
    "from selenium.webdriver.support.ui import WebDriverWait\n",
    "\n",
    "driver = webdriver.Firefox(service=FirefoxService(GeckoDriverManager().install()))\n",
    "driver.get(\"https://upwork.com/\")"
   ]
  },
  {
   "cell_type": "code",
   "execution_count": 7,
   "id": "8d7be1eb-1a7e-47b5-af94-da9e498293de",
   "metadata": {},
   "outputs": [],
   "source": [
    "name=driver.find_elements(By.CLASS_NAME,'d-flex.name-container')\n",
    "title=driver.find_elements(By.CLASS_NAME,'my-0.freelancer-title')\n",
    "country=driver.find_elements(By.CLASS_NAME,'d-inline-block.vertical-align-middle')\n",
    "hourly_rate=driver.find_elements(By.CLASS_NAME,'data-v-afba2f9e')\n",
    "success_rate=driver.find_elements(By.CLASS_NAME,'up-job-success-text')\n",
    "description=driver.find_elements(By.CLASS_NAME,'up-line-clamp-v2.clamped')\n",
    "skills=driver.find_elements(By.CLASS_NAME,'up-skill-wrapper')"
   ]
  },
  {
   "cell_type": "code",
   "execution_count": 21,
   "id": "8153b95d-c866-4356-befa-70bb1be5a056",
   "metadata": {},
   "outputs": [
    {
     "name": "stdout",
     "output_type": "stream",
     "text": [
      "['German S.', 'Hamza R.', 'Jagmeet S.', 'Shah N.', 'Umer Ali S.', 'Ameer H.', 'Ahtisham M.', 'Natalie P.', 'Sakshi S.', 'Rohail A.']\n"
     ]
    }
   ],
   "source": [
    "names=[]\n",
    "for i in name:\n",
    "    names.append(i.text)\n",
    "\n",
    "print(names)"
   ]
  },
  {
   "cell_type": "code",
   "execution_count": 22,
   "id": "0fdc66ba-1c12-425a-b0d1-26affe956283",
   "metadata": {},
   "outputs": [
    {
     "name": "stdout",
     "output_type": "stream",
     "text": [
      "['Amazon FBA Expert, Consultant, Mentor, & Coach', 'Amazon FBA Expert | Amazon PPC Specialist| Amazon Listing Optimization', 'Amazon VA - Amazon PPC, Amazon FBA, Helium 10, Amazon Product Research', 'Full-Stack Amazon Manager | Amazon Certified PPC Expert', 'Amazon Expert | Amazon Seller Management | Amazon PPC Expert', 'Amazon Seller & Vendor Expert | Amazon Listing Optimization, SEO | PPC', 'Amazon Seller Central Expert', 'Amazon Expert | Amazon Listing Optimization | Amazon SEO', 'Amazon Seller Central Expert', 'Amazon Expert | Amazon Seller Central | Amazon PPC Expert']\n"
     ]
    }
   ],
   "source": [
    "titles=[]\n",
    "for i in title:\n",
    "    titles.append(i.text)\n",
    "\n",
    "print(titles)"
   ]
  },
  {
   "cell_type": "code",
   "execution_count": 27,
   "id": "4d5cf1af-f24f-45c2-b14a-d4367b1024bb",
   "metadata": {},
   "outputs": [],
   "source": [
    "countries=[]\n",
    "for i in country:\n",
    "    countries.append(i.text)\n"
   ]
  },
  {
   "cell_type": "code",
   "execution_count": 26,
   "id": "32854660-588e-491e-a9e7-831df0fe7853",
   "metadata": {},
   "outputs": [],
   "source": [
    "hourly_rate=driver.find_elements(By.CLASS_NAME,'grid-col-1.grid-col-sm-1.justify-self-start.nowrap')\n",
    "hourly_rates=[]\n",
    "for i in hourly_rate:\n",
    "    hourly_rates.append(i.text)"
   ]
  },
  {
   "cell_type": "code",
   "execution_count": 25,
   "id": "a441c0ad-3295-4b42-b7c2-247100799f1d",
   "metadata": {},
   "outputs": [],
   "source": [
    "success_rates=[]\n",
    "for i in success_rate:\n",
    "    success_rates.append(i.text)"
   ]
  },
  {
   "cell_type": "code",
   "execution_count": 24,
   "id": "d72c5a17-3d36-4b81-b9f0-9fa5fd23dc86",
   "metadata": {},
   "outputs": [],
   "source": [
    "descriptions=[]\n",
    "for i in description:\n",
    "    descriptions.append(i.text)"
   ]
  },
  {
   "cell_type": "code",
   "execution_count": 23,
   "id": "104126fb-9284-43b4-98ed-0cd2f30df126",
   "metadata": {},
   "outputs": [],
   "source": [
    "skill=[]\n",
    "for i in skills:\n",
    "    skill.append(i.text)"
   ]
  },
  {
   "cell_type": "code",
   "execution_count": 20,
   "id": "7a4102a7-7549-42c2-b82d-a2fcaac167f9",
   "metadata": {},
   "outputs": [],
   "source": [
    "import pandas as pd"
   ]
  },
  {
   "cell_type": "code",
   "execution_count": 30,
   "id": "de2c70b6-f5b2-47f9-a0fc-db55a1e590f1",
   "metadata": {},
   "outputs": [
    {
     "data": {
      "text/plain": [
       "32"
      ]
     },
     "execution_count": 30,
     "metadata": {},
     "output_type": "execute_result"
    }
   ],
   "source": [
    "len(descriptions)"
   ]
  },
  {
   "cell_type": "code",
   "execution_count": 31,
   "id": "25c2789f-ba9e-4e91-8dc4-3096eb6f4dbc",
   "metadata": {},
   "outputs": [],
   "source": [
    "df=pd.DataFrame(\n",
    "    {\n",
    "        'name':names,'title':titles,'country':countries,'hourly_rate':hourly_rates,'success_rate':success_rates\n",
    "    }\n",
    ")\n"
   ]
  },
  {
   "cell_type": "code",
   "execution_count": 33,
   "id": "a6c16b27-586c-450b-b574-985ea67bd74b",
   "metadata": {},
   "outputs": [],
   "source": [
    "df.to_csv('upwork_amazon.csv')"
   ]
  },
  {
   "cell_type": "code",
   "execution_count": null,
   "id": "43ea493f-4106-4c6b-9476-f49ae120aa95",
   "metadata": {},
   "outputs": [],
   "source": []
  }
 ],
 "metadata": {
  "kernelspec": {
   "display_name": "Python 3 (ipykernel)",
   "language": "python",
   "name": "python3"
  },
  "language_info": {
   "codemirror_mode": {
    "name": "ipython",
    "version": 3
   },
   "file_extension": ".py",
   "mimetype": "text/x-python",
   "name": "python",
   "nbconvert_exporter": "python",
   "pygments_lexer": "ipython3",
   "version": "3.11.2"
  },
  "widgets": {
   "application/vnd.jupyter.widget-state+json": {
    "state": {},
    "version_major": 2,
    "version_minor": 0
   }
  }
 },
 "nbformat": 4,
 "nbformat_minor": 5
}
